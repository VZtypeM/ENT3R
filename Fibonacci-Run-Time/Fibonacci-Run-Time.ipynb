{
 "cells": [
  {
   "cell_type": "markdown",
   "metadata": {},
   "source": [
    "# Eksempel på forskjell i kjøretid\n",
    "På denne siden kan man selv erfare hvor stor forskjell det er mellom algoritmer som har eksponensiell kjøretid og algoritmer med lineær kjøretid. Dette er nok begreper som er ukjente for de fleste av dere, men hovedpoeget er bare å se forskjellen. Algoritmene jeg bruker som eksempel her skal beregne et tall i fibonaccis tallrekke\n",
    "\n",
    "## Fibonacci tallene\n",
    "\n",
    "Fibonacci tallene er tall i denne tallrekken: \n",
    "1, 1, 2, 3, 5, 8, 13, 21, 34, 55, ...\n",
    "Mønsteret er at det neste tallet i rekka er summen av de to forrige tallene i rekka, og man starter med 1 og 1.\n",
    "Denne rekka har flere interessante egenskaper, men det skal jeg ikke snakke om i dag, nå skal vi bare finne en funksjon som gir oss tallene i rekka.\n",
    "Funksjonen skal ta inn hvilket tall vi er interesert i å finne (f. eks. tall nr. 7), og den skal gi ut dette tallet i rekka. (f. eks. 21) Jeg velger å starte å telle på 0, så tall nr. 0 er 1, tall nr. 1 er 1, og så videre. Under kan dere se hvilken output jeg ønsker funksjonen skal ha for ulike input:\n",
    "\n",
    "(input -> output), (0 -> 1), (1 -> 1), (2 -> 2), (3 -> 3), (4 -> 5), (5 -> 8), (6 -> 13), (7 -> 21) ...\n",
    "\n",
    "Basert på dette har jeg laget 2 ulike funksjoner som begge gjør det jeg ønsker, men en av dem er mye raskere enn den andre. Hvis du vil kan du prøve å gjette hvem du tror er raskest før du ser resultatene. \n",
    "\n",
    "PS. For å kjøre en kodeblokk og teste hva som skjer, er det bare å trykke på en blokk med kode og så trykke på run knappen øverst på siden (Skal være formet som en startknapp, altså en trekant med spiss mot høyre) Hvis noe kode tar for lang tid å kjøre kan dere trykke på stopp knappen rett ved siden av (Formet som en firkant)"
   ]
  },
  {
   "cell_type": "code",
   "execution_count": null,
   "metadata": {},
   "outputs": [],
   "source": [
    "def fibonacci_number1(x):\n",
    "    a = 1\n",
    "    b = 1\n",
    "    for _ in range(x-1):\n",
    "        c = a + b\n",
    "        a = b\n",
    "        b = c\n",
    "    return b\n",
    "\n",
    "\n",
    "# Koden under er bare for å vise at funksjonen oppfører seg riktig\n",
    "# Her kan man se at funksjon gir ut tallene jeg listet i starten\n",
    "fibonacci_list = []\n",
    "for i in range(10):\n",
    "    fibonacci_list.append(fibonacci_number1(i))\n",
    "print(fibonacci_list)"
   ]
  },
  {
   "cell_type": "code",
   "execution_count": null,
   "metadata": {},
   "outputs": [],
   "source": [
    "def fibonacci_number2(x):\n",
    "    if x == 0:\n",
    "        return 1\n",
    "    if x == 1:\n",
    "        return 1\n",
    "    return fibonacci_number2(x-1) + fibonacci_number2(x-2)\n",
    "\n",
    "\n",
    "# Koden under er bare for å vise at funksjonen oppfører seg riktig\n",
    "# Her kan man se at funksjon gir ut tallene jeg listet i starten\n",
    "fibonacci_list = []\n",
    "for i in range(10):\n",
    "    fibonacci_list.append(fibonacci_number2(i))\n",
    "print(fibonacci_list)"
   ]
  },
  {
   "cell_type": "markdown",
   "metadata": {},
   "source": [
    "## Resultater\n",
    "For å se hvilken av funksjonene som kjører raskest er det bare å kjøre kodeblokkene under og se hvem som bruker lengst tid. På min laptop tar det ca. 10 sekunder for den ene å kjøre, men det kan hende dere må vente lengre eller kortere. Det er bare å sette inn ulike verdier for funksjonene og se hvor lang tid det tar. \n",
    "\n",
    "PS. Dere må kjøre kodeblokkene over før dere kan kjøre de under. Hvis ikke får dere feilmeldinger."
   ]
  },
  {
   "cell_type": "code",
   "execution_count": null,
   "metadata": {},
   "outputs": [],
   "source": [
    "# Algoritme 2\n",
    "print(fibonacci_number2(38))"
   ]
  },
  {
   "cell_type": "code",
   "execution_count": null,
   "metadata": {},
   "outputs": [],
   "source": [
    "# Algoritme 1\n",
    "print(fibonacci_number1(38))"
   ]
  },
  {
   "cell_type": "markdown",
   "metadata": {},
   "source": [
    "Algoritme 1 var altså raskere og grunnen til det er at algoritme 2 må gjøre masse arbeid flere ganger. \n",
    "For eksempel hvis man ber algoritme 2 om å finne fibonacci tall nr. 4, så må den finne fibonacci tall nr. 3 og nr. 2, men for å finne fibonacci tall nr. 3 må den finne nr. 2 og nr. 1. Algoritmen må altså finne fibonacci tall nr. 2 to ulike ganger, den husker ikke at den har gjort det før, den gjør alt arbeidet om igjen. \n",
    "\n",
    "For å illustrere hvor stor forskjellen er prøv å øk tallet for algoritme 2 bare litt og se hvor mye lengre tid det tar. Prøv så å gi algoritme 1 tallet 1000, hva med 10 000, 100 000 eller 1 000 000? Det er helt ekstremt hvor raske datamaskiner er blitt, men med dårlige algortimer kommer man ikke langt. "
   ]
  },
  {
   "cell_type": "code",
   "execution_count": null,
   "metadata": {},
   "outputs": [],
   "source": [
    "# Algoritme 1 er MYE raskere enn Algoritme 2\n",
    "print(fibonacci_number1(1000))\n",
    "# Bare prøv større verdier, hvis det tar for lang tid er det bare å stoppe ved å trykke på firkanten øverst"
   ]
  }
 ],
 "metadata": {
  "interpreter": {
   "hash": "f2575392019334285e0602a4035eec46b9260ee4c95297ea34ade6e3c8b8fcaf"
  },
  "kernelspec": {
   "display_name": "Python 3.8.10 64-bit",
   "name": "python3"
  },
  "language_info": {
   "codemirror_mode": {
    "name": "ipython",
    "version": 3
   },
   "file_extension": ".py",
   "mimetype": "text/x-python",
   "name": "python",
   "nbconvert_exporter": "python",
   "pygments_lexer": "ipython3",
   "version": "3.8.10"
  },
  "orig_nbformat": 4
 },
 "nbformat": 4,
 "nbformat_minor": 2
}
