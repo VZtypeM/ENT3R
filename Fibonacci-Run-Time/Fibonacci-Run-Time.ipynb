{
 "cells": [
  {
   "cell_type": "markdown",
   "metadata": {},
   "source": [
    "# Eksempel på forskjell i kjøretid\n",
    "På denne siden kan man selv erfare hvor stor forskjell det er mellom algoritmer som har eksponensiell kjøretid og algoritmer med lineær kjøretid. Dette er nok begreper som er ukjente for de fleste av dere, men hovedpoeget er ikke å forstå alt, det er bare å få en liten aha opplevelse når man ser forskjellen. Algoritmene jeg bruker som eksempel her skal beregne et tall i fibonaccis tallrekke.\n",
    "\n",
    "## Fibonacci tallene\n",
    "\n",
    "Fibonacci tallene er tall i denne tallrekken: \n",
    "1, 1, 2, 3, 5, 8, 13, 21, 34, 55, ...\n",
    "Mønsteret er at det neste tallet i rekka er summen av de to forrige tallene i rekka, og man starter med 1 og 1.\n",
    "Denne rekka har flere interessante egenskaper, men det skal jeg ikke snakke om i dag, nå skal vi bare finne en funksjon som gir oss tallene i rekka.\n",
    "Funksjonen skal ta inn hvilket tall vi er interesert i å finne (f. eks. tall nr. 7), og den skal gi ut dette tallet i rekka. (f. eks. 21) Jeg velger å starte å telle på 0, så tall nr. 0 er 1, tall nr. 1 er 1, og så videre. Under kan dere se hvilken output jeg ønsker funksjonen skal ha for ulike input:\n",
    "\n",
    "(input -> output), (0 -> 1), (1 -> 1), (2 -> 2), (3 -> 3), (4 -> 5), (5 -> 8), (6 -> 13), (7 -> 21) ...\n",
    "\n",
    "Basert på dette har jeg laget 2 ulike funksjoner som begge gjør det jeg ønsker, men en av dem er mye raskere enn den andre. Hvis du vil kan du prøve å gjette hvem du tror er raskest før du ser resultatene. \n",
    "\n",
    "PS. For å kjøre en kodeblokk og teste hva som skjer, er det bare å trykke på play knappen øverst til venstre i kodeblokken (Altså i teksten, ikke øverst til venstre på siden)"
   ]
  },
  {
   "cell_type": "code",
   "execution_count": 1,
   "metadata": {},
   "outputs": [
    {
     "name": "stdout",
     "output_type": "stream",
     "text": [
      "[1, 1, 2, 3, 5, 8, 13, 21, 34, 55]\n"
     ]
    }
   ],
   "source": [
    "def fibonacci_number1(x):\n",
    "    a = 1\n",
    "    b = 1\n",
    "    # For loopen under betyr bare gjør alt som er flyttet inn et hakk x ganger\n",
    "    for _ in range(x-1):\n",
    "        # Her plusser vi sammen tallene\n",
    "        c = a + b \n",
    "        # Her forskyver vi tallene et hakk oppover, slik at neste gang\n",
    "        # så plusser vi sammen de neste to tallene, istedenfor de samme to tallene\n",
    "        a = b\n",
    "        b = c\n",
    "    return b\n",
    "\n",
    "\n",
    "# Koden under er bare for å vise at funksjonen oppfører seg riktig\n",
    "# Her kan man se at funksjon gir ut tallene jeg listet i starten\n",
    "fibonacci_list = []\n",
    "for i in range(10):\n",
    "    fibonacci_list.append(fibonacci_number1(i))\n",
    "print(fibonacci_list)"
   ]
  },
  {
   "cell_type": "code",
   "execution_count": 2,
   "metadata": {},
   "outputs": [
    {
     "name": "stdout",
     "output_type": "stream",
     "text": [
      "[1, 1, 2, 3, 5, 8, 13, 21, 34, 55]\n"
     ]
    }
   ],
   "source": [
    "def fibonacci_number2(x):\n",
    "    # Hvis x er 0 eller 1 så vet vi at resultatet skal bli 1\n",
    "    if x == 0 or x == 1:\n",
    "        return 1\n",
    "    # Hvis ikke finner man svaret ved først å finne ut av hva x-1 og x-2 er\n",
    "    # og så plusser man sammen disse\n",
    "    # Legg merke til at her bruker vi den samme funksjonen om igjen inne i funksjonen\n",
    "    # Dette kalles \"rekursjon\"\n",
    "    return fibonacci_number2(x-1) + fibonacci_number2(x-2)\n",
    "\n",
    "\n",
    "# Koden under er bare for å vise at funksjonen oppfører seg riktig\n",
    "# Her kan man se at funksjon gir ut tallene jeg listet i starten\n",
    "fibonacci_list = []\n",
    "for i in range(10):\n",
    "    fibonacci_list.append(fibonacci_number2(i))\n",
    "print(fibonacci_list)"
   ]
  },
  {
   "cell_type": "markdown",
   "metadata": {},
   "source": [
    "## Resultater\n",
    "For å se hvilken av funksjonene som kjører raskest er det bare å kjøre kodeblokkene under og se hvem som bruker lengst tid. På min laptop tar det ca. 10 sekunder for den ene å kjøre, men det kan hende dere må vente lengre eller kortere. Det er bare å sette inn ulike verdier for funksjonene og se hvor lang tid det tar. \n",
    "\n",
    "PS. Dere må kjøre kodeblokkene over før dere kan kjøre de under. Hvis ikke får dere feilmeldinger."
   ]
  },
  {
   "cell_type": "code",
   "execution_count": 4,
   "metadata": {},
   "outputs": [
    {
     "name": "stdout",
     "output_type": "stream",
     "text": [
      "63245986\n"
     ]
    }
   ],
   "source": [
    "# Algoritme 1\n",
    "print(fibonacci_number1(38))"
   ]
  },
  {
   "cell_type": "code",
   "execution_count": 3,
   "metadata": {},
   "outputs": [
    {
     "name": "stdout",
     "output_type": "stream",
     "text": [
      "63245986\n"
     ]
    }
   ],
   "source": [
    "# Algoritme 2\n",
    "print(fibonacci_number2(38))"
   ]
  },
  {
   "cell_type": "markdown",
   "metadata": {},
   "source": [
    "Algoritme 1 var altså raskere og grunnen til det er at algoritme 2 må gjøre masse arbeid flere ganger. \n",
    "For eksempel hvis man ber algoritme 2 om å finne fibonacci tall nr. 4, så må den finne fibonacci tall nr. 3 og nr. 2, men for å finne fibonacci tall nr. 3 må den finne nr. 2 og nr. 1. Algoritmen må altså finne fibonacci tall nr. 2 to ulike ganger, den husker ikke at den har gjort det før, den gjør alt arbeidet om igjen. \n",
    "\n",
    "For å illustrere hvor stor forskjellen er prøv å øk tallet for algoritme 2 bare litt og se hvor mye lengre tid det tar. Prøv så å se hvor stort fibonacci tall algoritme 1 kan klare (Det er bare å endre på koden over som du vil)\n",
    "\n",
    "Det er helt ekstremt hvor raske datamaskiner er blitt, men med dårlige algortimer kommer man likevel ikke langt.\n",
    "\n",
    "Under vises fibonacci tall nummer 10 000, men dette ville tatt altofor lang tid med algoritme 2."
   ]
  },
  {
   "cell_type": "code",
   "execution_count": 6,
   "metadata": {},
   "outputs": [
    {
     "name": "stdout",
     "output_type": "stream",
     "text": [
      "54438373113565281338734260993750380135389184554695967026247715841208582865622349017083051547938960541173822675978026317384359584751116241439174702642959169925586334117906063048089793531476108466259072759367899150677960088306597966641965824937721800381441158841042480997984696487375337180028163763317781927941101369262750979509800713596718023814710669912644214775254478587674568963808002962265133111359929762726679441400101575800043510777465935805362502461707918059226414679005690752321895868142367849593880756423483754386342639635970733756260098962462668746112041739819404875062443709868654315626847186195620146126642232711815040367018825205314845875817193533529827837800351902529239517836689467661917953884712441028463935449484614450778762529520961887597272889220768537396475869543159172434537193611263743926337313005896167248051737986306368115003088396749587102619524631352447499505204198305187168321623283859794627245919771454628218399695789223798912199431775469705216131081096559950638297261253848242007897109054754028438149611930465061866170122983288964352733750792786069444761853525144421077928045979904561298129423809156055033032338919609162236698759922782923191896688017718575555520994653320128446502371153715141749290913104897203455577507196645425232862022019506091483585223882711016708433051169942115775151255510251655931888164048344129557038825477521111577395780115868397072602565614824956460538700280331311861485399805397031555727529693399586079850381581446276433858828529535803424850845426446471681531001533180479567436396815653326152509571127480411928196022148849148284389124178520174507305538928717857923509417743383331506898239354421988805429332440371194867215543576548565499134519271098919802665184564927827827212957649240235507595558205647569365394873317659000206373126570643509709482649710038733517477713403319028105575667931789470024118803094604034362953471997461392274791549730356412633074230824051999996101549784667340458326852960388301120765629245998136251652347093963049734046445106365304163630823669242257761468288461791843224793434406079917883360676846711185597501\n"
     ]
    }
   ],
   "source": [
    "# Algoritme 1 er MYE raskere enn Algoritme 2\n",
    "\n",
    "# Her kan man se at algoritme 1 klarer å finne tall 10 000 \n",
    "# (faktisk klarer den helt opp til 1 million på noen sekunder, men det tallet er for stort til å vises)\n",
    "print(fibonacci_number1(10_000))"
   ]
  },
  {
   "cell_type": "code",
   "execution_count": null,
   "metadata": {},
   "outputs": [],
   "source": [
    "import time\n",
    "startTime = time.time()\n",
    "\n",
    "# Algoritme 1 er MYE raskere enn Algoritme 2\n",
    "fibonacci_number1(1_000_000)\n",
    "# Bare prøv større verdier, hvis det tar for lang tid er det bare å stoppe ved å trykke på play knappen om igjen, mens koden kjører skal den se ut som en firkant og betyr stopp\n",
    "\n",
    "executionTime = (time.time() - startTime)\n",
    "print('Execution time in seconds: ' + str(executionTime))"
   ]
  },
  {
   "cell_type": "code",
   "execution_count": null,
   "metadata": {},
   "outputs": [],
   "source": [
    "running_time_test_alg1 = [1_000_000, 1_100_000, 1_200_000, 1_300_000, 1_400_000, 1_500_000, 1_600_000, 1_700_000, 1_800_000, 1_900_000, 2_000_000]\n",
    "running_time_result_alg1 = [7.815, 9.465, 11.072, 13.150, 15.203, 17.157, 19.441, 22.230, 25.268, 28.984, 30.898]\n",
    "\n",
    "import matplotlib.pyplot as plt\n",
    "\n",
    "plt.plot(running_time_test_alg1, running_time_result_alg1, label=\"Algorithm 1\")\n",
    "plt.grid()\n",
    "plt.show()"
   ]
  },
  {
   "cell_type": "code",
   "execution_count": null,
   "metadata": {},
   "outputs": [],
   "source": [
    "import time\n",
    "startTime = time.time()\n",
    "\n",
    "# Algoritme 1 er MYE raskere enn Algoritme 2\n",
    "fibonacci_number2(32)\n",
    "# Bare prøv større verdier, hvis det tar for lang tid er det bare å stoppe ved å trykke på play knappen om igjen, mens koden kjører skal den se ut som en firkant og betyr stopp\n",
    "\n",
    "executionTime = (time.time() - startTime)\n",
    "print('Execution time in seconds: ' + str(executionTime))"
   ]
  },
  {
   "cell_type": "code",
   "execution_count": null,
   "metadata": {},
   "outputs": [],
   "source": [
    "running_time_test_alg2 = [32, 33, 34, 35, 36, 37, 38, 39, 40]\n",
    "# Legg merke til at tidene under ser akkurat ut som fibonacci rekka, det er litt tilfelding, men poenget er at tiden det tar å\n",
    "# bruke algoritme 2 vokser like fort som tallene i fibonacci rekka, så jeg gjetter på at å finne tall nr. 41 tar rundt 55 sekunder med algoritme 2\n",
    "running_time_result_alg2 = [0.730, 1.174, 1.948, 3.214, 5.027, 8.206, 13.702, 21.705, 34.617]\n",
    "\n",
    "import matplotlib.pyplot as plt\n",
    "\n",
    "plt.plot(running_time_test_alg2, running_time_result_alg2, label=\"Algorithm 2\")\n",
    "plt.grid()\n",
    "plt.show()"
   ]
  }
 ],
 "metadata": {
  "kernelspec": {
   "display_name": "Python 3.10.2 64-bit",
   "language": "python",
   "name": "python3"
  },
  "language_info": {
   "codemirror_mode": {
    "name": "ipython",
    "version": 3
   },
   "file_extension": ".py",
   "mimetype": "text/x-python",
   "name": "python",
   "nbconvert_exporter": "python",
   "pygments_lexer": "ipython3",
   "version": "3.10.2"
  },
  "orig_nbformat": 4,
  "vscode": {
   "interpreter": {
    "hash": "369f2c481f4da34e4445cda3fffd2e751bd1c4d706f27375911949ba6bb62e1c"
   }
  }
 },
 "nbformat": 4,
 "nbformat_minor": 2
}
